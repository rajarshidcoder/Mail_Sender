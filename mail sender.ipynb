{
 "cells": [
  {
   "cell_type": "code",
   "execution_count": null,
   "metadata": {},
   "outputs": [],
   "source": [
    "import smtplib\n",
    "from email.mime.multipart import MIMEMultipart\n",
    "from email.mime.text import MIMEText\n",
    "from os import getenv\n",
    "from dotenv import load_dotenv\n",
    "load_dotenv()\n",
    "import csv"
   ]
  },
  {
   "cell_type": "code",
   "execution_count": null,
   "metadata": {},
   "outputs": [],
   "source": [
    "file = []\n",
    "with open(\"iot.csv\",'r') as f:  #Load the CSV file\n",
    "    csv_reader = csv.reader(f)\n",
    "    for row in csv_reader:\n",
    "        file.append(row)\n"
   ]
  },
  {
   "cell_type": "code",
   "execution_count": null,
   "metadata": {},
   "outputs": [],
   "source": [
    "#Sample printing\n",
    "\n",
    "file = file[1:]\n",
    "file[0]"
   ]
  },
  {
   "cell_type": "code",
   "execution_count": null,
   "metadata": {},
   "outputs": [],
   "source": [
    "#Getting the credentials\n",
    "\n",
    "email = getenv(\"EMAIL\")\n",
    "passwd = getenv(\"PASS\")"
   ]
  },
  {
   "cell_type": "code",
   "execution_count": null,
   "metadata": {},
   "outputs": [],
   "source": [
    "with smtplib.SMTP_SSL('smtp.gmail.com',465) as smpt:\n",
    "    smpt.login(email,passwd)\n",
    "    for row in file:\n",
    "        #Opening the html file\n",
    "        with open(\"index.html\", \"r\", encoding=\"utf-8\") as file:\n",
    "            html_template = file.read()\n",
    "        \n",
    "        #replaceing the variables\n",
    "        html_template = html_template.replace(\"[Receiptents Name]\",row[0])\n",
    "        html_template = html_template.replace(\"[Selected Domain]\",row[3].capitalize())\n",
    "        html_template = html_template.replace(\"[time]\",row[4])\n",
    "        html_template = html_template.replace(\"[date]\",row[5])\n",
    "        html_template = html_template.replace(\"[venue]\",row[6])\n",
    "        html_template = html_template.replace(\"[GL Name]\",row[7])\n",
    "        html_template = html_template.replace(\"[GL Contact No.]\",row[8])\n",
    "\n",
    "\n",
    "        sender_mail = row[1]                                #setting sender mail id\n",
    "\n",
    "        subject = \"Evaluation Process for Coding Club.\"     #mail subject\n",
    "\n",
    "        #Creating the msg\n",
    "        msg = MIMEMultipart()\n",
    "        msg['Subject'] = subject\n",
    "        msg['From'] = email\n",
    "        msg['To'] = sender_mail\n",
    "\n",
    "        msg.attach(MIMEText(html_template,'html'))\n",
    "\n",
    "        #sending the mail\n",
    "        smpt.sendmail(email,sender_mail,msg.as_string())\n",
    "        print(f\"Sent to {row[0]}\")"
   ]
  }
 ],
 "metadata": {
  "kernelspec": {
   "display_name": "Python 3",
   "language": "python",
   "name": "python3"
  },
  "language_info": {
   "codemirror_mode": {
    "name": "ipython",
    "version": 3
   },
   "file_extension": ".py",
   "mimetype": "text/x-python",
   "name": "python",
   "nbconvert_exporter": "python",
   "pygments_lexer": "ipython3",
   "version": "3.12.2"
  }
 },
 "nbformat": 4,
 "nbformat_minor": 2
}
